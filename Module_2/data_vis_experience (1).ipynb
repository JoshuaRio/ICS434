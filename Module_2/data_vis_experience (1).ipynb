{
 "cells": [
  {
   "cell_type": "markdown",
   "id": "8b1a4ff6",
   "metadata": {},
   "source": [
    "#### 1. Reproducing a plot\n",
    "1. Use `numpy`'s `random` module to generate a random list of size 1000 of the following three categories: \"CS\", \"Engineering\", \"Math\" and \"Physics\"\n",
    "  1.1 Use a seed of 42\n",
    "2. Store the data in an array called my `students_affiliations`\n",
    "3. use `matplotlib` to plot the data in `students_affiliations` to reproduce the following graph\n",
    " 3.1 The plot uses \"#FF5733\" as color with an alpha (transparency) of 0.55.\n",
    "\n",
    "* Your graph should look exactly like the one below\n",
    "\n",
    "![](https://www.dropbox.com/s/ffmu62es6d7evh5/experience_fig.png?dl=1)"
   ]
  },
  {
   "cell_type": "code",
   "execution_count": 2,
   "id": "de3c1724",
   "metadata": {},
   "outputs": [],
   "source": [
    "import numpy as np"
   ]
  },
  {
   "cell_type": "code",
   "execution_count": 14,
   "id": "393ac7e9",
   "metadata": {},
   "outputs": [
    {
     "data": {
      "text/plain": [
       "array([1, 2, 0, 0, 0, 0, 3, 0, 3, 3, 0, 0, 1, 2, 0, 1, 1, 2, 3, 0, 2, 0,\n",
       "       1, 1, 3, 1, 1, 2, 0, 0, 2, 3, 0, 1, 0, 1, 3, 2, 0, 2, 0, 1, 2, 0,\n",
       "       1, 2, 2, 0, 0, 0, 1, 0, 2, 2, 0, 0, 3, 2, 1, 3, 0, 0, 2, 0, 1, 2,\n",
       "       0, 2, 0, 0, 0, 1, 1, 2, 0, 0, 1, 0, 1, 0, 2, 0, 0, 3, 1, 0, 0, 3,\n",
       "       3, 1, 3, 2, 3, 2, 1, 1, 1, 1, 1, 2, 2, 1, 3, 0, 1, 3, 0, 1, 1, 2,\n",
       "       0, 0, 3, 2, 2, 2, 2, 0, 0, 1, 1, 2, 2, 2, 1, 3, 3, 1, 1, 1, 1, 1,\n",
       "       1, 2, 2, 2, 2, 1, 3, 0, 1, 0, 3, 2, 3, 1, 2, 1, 2, 0, 0, 0, 3, 1,\n",
       "       3, 0, 1, 0, 3, 3, 3, 0, 1, 1, 0, 1, 0, 1, 2, 2, 3, 2, 2, 2, 0, 2,\n",
       "       2, 3, 2, 2, 1, 3, 3, 3, 3, 3, 3, 0, 2, 3, 2, 2, 0, 3, 1, 0, 1, 2,\n",
       "       2, 0, 0, 1, 3, 1, 0, 1, 0, 1, 0, 0, 0, 3, 1, 1, 1, 0, 1, 1, 0, 2,\n",
       "       0, 1, 0, 2, 0, 1, 2, 3, 1, 2, 2, 3, 0, 0, 1, 3, 0, 3, 0, 2, 0, 3,\n",
       "       2, 2, 2, 3, 1, 1, 1, 3, 2, 1, 3, 1, 0, 1, 1, 2, 3, 2, 2, 2, 2, 2,\n",
       "       1, 2, 2, 3, 0, 1, 1, 1, 2, 2, 2, 3, 0, 2, 0, 3, 1, 2, 0, 0, 2, 1,\n",
       "       1, 1, 3, 0, 0, 0, 3, 0, 3, 1, 2, 0, 0, 1, 2, 3, 2, 1, 1, 2, 3, 3,\n",
       "       0, 3, 2, 1, 0, 0, 1, 3, 1, 3, 1, 2, 3, 2, 0, 1, 0, 0, 0, 0, 1, 0,\n",
       "       1, 1, 2, 3, 3, 1, 2, 1, 1, 1, 2, 3, 2, 0, 2, 2, 2, 2, 3, 0, 3, 3,\n",
       "       2, 1, 1, 3, 3, 2, 3, 2, 1, 1, 0, 1, 3, 1, 2, 1, 0, 1, 2, 2, 3, 1,\n",
       "       2, 0, 3, 0, 1, 1, 1, 3, 2, 3, 0, 3, 0, 3, 2, 0, 1, 1, 3, 1, 0, 1,\n",
       "       2, 2, 3, 0, 2, 2, 0, 1, 1, 3, 1, 0, 2, 1, 3, 1, 0, 3, 1, 3, 0, 2,\n",
       "       0, 0, 0, 0, 2, 2, 3, 1, 2, 2, 1, 2, 0, 0, 1, 3, 3, 1, 1, 0, 3, 2,\n",
       "       0, 1, 3, 2, 2, 0, 3, 3, 1, 3, 3, 0, 3, 2, 0, 0, 1, 3, 1, 2, 0, 0,\n",
       "       0, 2, 2, 1, 1, 1, 3, 0, 0, 1, 0, 1, 3, 3, 2, 3, 1, 3, 2, 0, 1, 0,\n",
       "       2, 2, 2, 0, 0, 0, 0, 2, 2, 1, 1, 0, 3, 3, 2, 2, 2, 1, 1, 2, 2, 2,\n",
       "       3, 1, 3, 3, 2, 2, 0, 0, 3, 1, 2, 2, 3, 0, 1, 0, 0, 0, 0, 2, 2, 0,\n",
       "       1, 3, 1, 1, 1, 0, 2, 1, 0, 1, 1, 0, 2, 2, 3, 0, 3, 3, 3, 2, 0, 3,\n",
       "       0, 0, 2, 3, 3, 0, 1, 2, 2, 2, 2, 3, 3, 1, 2, 2, 0, 3, 2, 1, 1, 3,\n",
       "       1, 1, 3, 2, 2, 1, 1, 2, 3, 1, 0, 3, 1, 1, 0, 0, 2, 3, 3, 2, 3, 3,\n",
       "       3, 3, 3, 0, 3, 0, 3, 2, 1, 0, 3, 2, 1, 0, 1, 2, 0, 1, 3, 0, 1, 2,\n",
       "       2, 0, 1, 0, 0, 1, 1, 3, 1, 2, 0, 0, 2, 1, 2, 2, 3, 2, 0, 2, 0, 0,\n",
       "       0, 1, 3, 0, 0, 1, 0, 2, 2, 3, 0, 1, 2, 1, 1, 2, 1, 2, 1, 2, 0, 3,\n",
       "       2, 2, 3, 2, 2, 1, 3, 0, 2, 3, 1, 0, 3, 0, 0, 0, 2, 2, 1, 1, 3, 1,\n",
       "       0, 0, 2, 0, 3, 0, 0, 3, 1, 1, 3, 2, 0, 3, 0, 2, 0, 3, 0, 1, 2, 2,\n",
       "       2, 3, 2, 1, 3, 1, 0, 0, 0, 0, 1, 3, 3, 2, 1, 0, 1, 2, 2, 1, 1, 1,\n",
       "       3, 0, 1, 1, 1, 2, 2, 3, 0, 3, 0, 2, 2, 2, 3, 1, 1, 2, 1, 1, 3, 0,\n",
       "       2, 2, 3, 3, 1, 2, 0, 3, 0, 0, 2, 2, 3, 2, 2, 2, 0, 3, 1, 0, 2, 0,\n",
       "       2, 2, 0, 3, 2, 3, 1, 2, 3, 3, 1, 3, 3, 1, 2, 3, 3, 3, 0, 1, 0, 1,\n",
       "       2, 2, 3, 1, 2, 1, 2, 0, 2, 0, 2, 3, 0, 2, 3, 0, 3, 1, 1, 0, 2, 0,\n",
       "       3, 2, 1, 2, 1, 2, 2, 2, 3, 3, 0, 0, 1, 3, 1, 0, 1, 0, 3, 2, 3, 1,\n",
       "       1, 3, 3, 0, 1, 1, 3, 2, 1, 2, 3, 3, 0, 1, 2, 0, 1, 0, 3, 1, 0, 0,\n",
       "       2, 0, 1, 1, 2, 1, 3, 1, 1, 0, 0, 1, 2, 0, 2, 1, 1, 3, 0, 1, 3, 0,\n",
       "       1, 1, 0, 0, 0, 1, 1, 3, 2, 0, 1, 1, 0, 2, 0, 2, 1, 2, 3, 1, 3, 0,\n",
       "       0, 0, 2, 1, 0, 0, 1, 0, 3, 1, 1, 1, 3, 1, 3, 1, 2, 0, 2, 0, 3, 2,\n",
       "       1, 0, 0, 2, 3, 2, 3, 3, 0, 2, 2, 3, 2, 1, 1, 2, 2, 3, 1, 1, 0, 3,\n",
       "       0, 1, 3, 2, 3, 2, 2, 3, 2, 0, 1, 2, 0, 2, 1, 0, 1, 1, 0, 0, 0, 3,\n",
       "       0, 0, 0, 0, 2, 3, 1, 0, 2, 2, 2, 1, 0, 3, 3, 2, 1, 1, 1, 3, 2, 0,\n",
       "       3, 2, 2, 0, 0, 0, 1, 0, 2, 0])"
      ]
     },
     "execution_count": 14,
     "metadata": {},
     "output_type": "execute_result"
    }
   ],
   "source": [
    "students_affiliations=np.random.randint(4, size=1000); np.random.seed(42)\n",
    "students_affiliations\n"
   ]
  },
  {
   "cell_type": "code",
   "execution_count": 11,
   "id": "222161bf",
   "metadata": {},
   "outputs": [],
   "source": [
    "import matplotlib.pyplot as plt"
   ]
  },
  {
   "cell_type": "code",
   "execution_count": 15,
   "id": "cd914315",
   "metadata": {},
   "outputs": [
    {
     "ename": "ValueError",
     "evalue": "shape mismatch: objects cannot be broadcast to a single shape",
     "output_type": "error",
     "traceback": [
      "\u001b[1;31m---------------------------------------------------------------------------\u001b[0m",
      "\u001b[1;31mValueError\u001b[0m                                Traceback (most recent call last)",
      "\u001b[1;32m~\\AppData\\Local\\Temp/ipykernel_5620/3342417271.py\u001b[0m in \u001b[0;36m<module>\u001b[1;34m\u001b[0m\n\u001b[1;32m----> 1\u001b[1;33m \u001b[0mplt\u001b[0m\u001b[1;33m.\u001b[0m\u001b[0mbar\u001b[0m\u001b[1;33m(\u001b[0m\u001b[1;33m[\u001b[0m\u001b[1;34m\"Physics\"\u001b[0m\u001b[1;33m,\u001b[0m\u001b[1;34m\"CS\"\u001b[0m\u001b[1;33m,\u001b[0m\u001b[1;34m\"Math\"\u001b[0m\u001b[1;33m,\u001b[0m\u001b[1;34m\"Engineering\"\u001b[0m\u001b[1;33m]\u001b[0m\u001b[1;33m,\u001b[0m\u001b[1;33m[\u001b[0m\u001b[1;36m0\u001b[0m\u001b[1;33m,\u001b[0m\u001b[1;36m1\u001b[0m\u001b[1;33m,\u001b[0m\u001b[1;36m2\u001b[0m\u001b[1;33m,\u001b[0m\u001b[1;36m3\u001b[0m\u001b[1;33m,\u001b[0m\u001b[1;36m4\u001b[0m\u001b[1;33m]\u001b[0m\u001b[1;33m)\u001b[0m\u001b[1;33m\u001b[0m\u001b[1;33m\u001b[0m\u001b[0m\n\u001b[0m\u001b[0;32m      2\u001b[0m \u001b[0mplt\u001b[0m\u001b[1;33m.\u001b[0m\u001b[0mlegend\u001b[0m\u001b[1;33m(\u001b[0m\u001b[1;33m)\u001b[0m\u001b[1;33m\u001b[0m\u001b[1;33m\u001b[0m\u001b[0m\n\u001b[0;32m      3\u001b[0m \u001b[1;33m\u001b[0m\u001b[0m\n\u001b[0;32m      4\u001b[0m \u001b[0mplt\u001b[0m\u001b[1;33m.\u001b[0m\u001b[0mxlabel\u001b[0m\u001b[1;33m(\u001b[0m\u001b[1;34m'Disciplines'\u001b[0m\u001b[1;33m)\u001b[0m\u001b[1;33m\u001b[0m\u001b[1;33m\u001b[0m\u001b[0m\n\u001b[0;32m      5\u001b[0m \u001b[0mplt\u001b[0m\u001b[1;33m.\u001b[0m\u001b[0mylabel\u001b[0m\u001b[1;33m(\u001b[0m\u001b[1;34m'Height'\u001b[0m\u001b[1;33m)\u001b[0m\u001b[1;33m\u001b[0m\u001b[1;33m\u001b[0m\u001b[0m\n",
      "\u001b[1;32m~\\anaconda3\\lib\\site-packages\\matplotlib\\pyplot.py\u001b[0m in \u001b[0;36mbar\u001b[1;34m(x, height, width, bottom, align, data, **kwargs)\u001b[0m\n\u001b[0;32m   2649\u001b[0m         \u001b[0mx\u001b[0m\u001b[1;33m,\u001b[0m \u001b[0mheight\u001b[0m\u001b[1;33m,\u001b[0m \u001b[0mwidth\u001b[0m\u001b[1;33m=\u001b[0m\u001b[1;36m0.8\u001b[0m\u001b[1;33m,\u001b[0m \u001b[0mbottom\u001b[0m\u001b[1;33m=\u001b[0m\u001b[1;32mNone\u001b[0m\u001b[1;33m,\u001b[0m \u001b[1;33m*\u001b[0m\u001b[1;33m,\u001b[0m \u001b[0malign\u001b[0m\u001b[1;33m=\u001b[0m\u001b[1;34m'center'\u001b[0m\u001b[1;33m,\u001b[0m\u001b[1;33m\u001b[0m\u001b[1;33m\u001b[0m\u001b[0m\n\u001b[0;32m   2650\u001b[0m         data=None, **kwargs):\n\u001b[1;32m-> 2651\u001b[1;33m     return gca().bar(\n\u001b[0m\u001b[0;32m   2652\u001b[0m         \u001b[0mx\u001b[0m\u001b[1;33m,\u001b[0m \u001b[0mheight\u001b[0m\u001b[1;33m,\u001b[0m \u001b[0mwidth\u001b[0m\u001b[1;33m=\u001b[0m\u001b[0mwidth\u001b[0m\u001b[1;33m,\u001b[0m \u001b[0mbottom\u001b[0m\u001b[1;33m=\u001b[0m\u001b[0mbottom\u001b[0m\u001b[1;33m,\u001b[0m \u001b[0malign\u001b[0m\u001b[1;33m=\u001b[0m\u001b[0malign\u001b[0m\u001b[1;33m,\u001b[0m\u001b[1;33m\u001b[0m\u001b[1;33m\u001b[0m\u001b[0m\n\u001b[0;32m   2653\u001b[0m         **({\"data\": data} if data is not None else {}), **kwargs)\n",
      "\u001b[1;32m~\\anaconda3\\lib\\site-packages\\matplotlib\\__init__.py\u001b[0m in \u001b[0;36minner\u001b[1;34m(ax, data, *args, **kwargs)\u001b[0m\n\u001b[0;32m   1359\u001b[0m     \u001b[1;32mdef\u001b[0m \u001b[0minner\u001b[0m\u001b[1;33m(\u001b[0m\u001b[0max\u001b[0m\u001b[1;33m,\u001b[0m \u001b[1;33m*\u001b[0m\u001b[0margs\u001b[0m\u001b[1;33m,\u001b[0m \u001b[0mdata\u001b[0m\u001b[1;33m=\u001b[0m\u001b[1;32mNone\u001b[0m\u001b[1;33m,\u001b[0m \u001b[1;33m**\u001b[0m\u001b[0mkwargs\u001b[0m\u001b[1;33m)\u001b[0m\u001b[1;33m:\u001b[0m\u001b[1;33m\u001b[0m\u001b[1;33m\u001b[0m\u001b[0m\n\u001b[0;32m   1360\u001b[0m         \u001b[1;32mif\u001b[0m \u001b[0mdata\u001b[0m \u001b[1;32mis\u001b[0m \u001b[1;32mNone\u001b[0m\u001b[1;33m:\u001b[0m\u001b[1;33m\u001b[0m\u001b[1;33m\u001b[0m\u001b[0m\n\u001b[1;32m-> 1361\u001b[1;33m             \u001b[1;32mreturn\u001b[0m \u001b[0mfunc\u001b[0m\u001b[1;33m(\u001b[0m\u001b[0max\u001b[0m\u001b[1;33m,\u001b[0m \u001b[1;33m*\u001b[0m\u001b[0mmap\u001b[0m\u001b[1;33m(\u001b[0m\u001b[0msanitize_sequence\u001b[0m\u001b[1;33m,\u001b[0m \u001b[0margs\u001b[0m\u001b[1;33m)\u001b[0m\u001b[1;33m,\u001b[0m \u001b[1;33m**\u001b[0m\u001b[0mkwargs\u001b[0m\u001b[1;33m)\u001b[0m\u001b[1;33m\u001b[0m\u001b[1;33m\u001b[0m\u001b[0m\n\u001b[0m\u001b[0;32m   1362\u001b[0m \u001b[1;33m\u001b[0m\u001b[0m\n\u001b[0;32m   1363\u001b[0m         \u001b[0mbound\u001b[0m \u001b[1;33m=\u001b[0m \u001b[0mnew_sig\u001b[0m\u001b[1;33m.\u001b[0m\u001b[0mbind\u001b[0m\u001b[1;33m(\u001b[0m\u001b[0max\u001b[0m\u001b[1;33m,\u001b[0m \u001b[1;33m*\u001b[0m\u001b[0margs\u001b[0m\u001b[1;33m,\u001b[0m \u001b[1;33m**\u001b[0m\u001b[0mkwargs\u001b[0m\u001b[1;33m)\u001b[0m\u001b[1;33m\u001b[0m\u001b[1;33m\u001b[0m\u001b[0m\n",
      "\u001b[1;32m~\\anaconda3\\lib\\site-packages\\matplotlib\\axes\\_axes.py\u001b[0m in \u001b[0;36mbar\u001b[1;34m(self, x, height, width, bottom, align, **kwargs)\u001b[0m\n\u001b[0;32m   2302\u001b[0m                 \u001b[0myerr\u001b[0m \u001b[1;33m=\u001b[0m \u001b[0mself\u001b[0m\u001b[1;33m.\u001b[0m\u001b[0m_convert_dx\u001b[0m\u001b[1;33m(\u001b[0m\u001b[0myerr\u001b[0m\u001b[1;33m,\u001b[0m \u001b[0my0\u001b[0m\u001b[1;33m,\u001b[0m \u001b[0my\u001b[0m\u001b[1;33m,\u001b[0m \u001b[0mself\u001b[0m\u001b[1;33m.\u001b[0m\u001b[0mconvert_yunits\u001b[0m\u001b[1;33m)\u001b[0m\u001b[1;33m\u001b[0m\u001b[1;33m\u001b[0m\u001b[0m\n\u001b[0;32m   2303\u001b[0m \u001b[1;33m\u001b[0m\u001b[0m\n\u001b[1;32m-> 2304\u001b[1;33m         x, height, width, y, linewidth, hatch = np.broadcast_arrays(\n\u001b[0m\u001b[0;32m   2305\u001b[0m             \u001b[1;31m# Make args iterable too.\u001b[0m\u001b[1;33m\u001b[0m\u001b[1;33m\u001b[0m\u001b[0m\n\u001b[0;32m   2306\u001b[0m             np.atleast_1d(x), height, width, y, linewidth, hatch)\n",
      "\u001b[1;32m<__array_function__ internals>\u001b[0m in \u001b[0;36mbroadcast_arrays\u001b[1;34m(*args, **kwargs)\u001b[0m\n",
      "\u001b[1;32m~\\anaconda3\\lib\\site-packages\\numpy\\lib\\stride_tricks.py\u001b[0m in \u001b[0;36mbroadcast_arrays\u001b[1;34m(subok, *args)\u001b[0m\n\u001b[0;32m    536\u001b[0m     \u001b[0margs\u001b[0m \u001b[1;33m=\u001b[0m \u001b[1;33m[\u001b[0m\u001b[0mnp\u001b[0m\u001b[1;33m.\u001b[0m\u001b[0marray\u001b[0m\u001b[1;33m(\u001b[0m\u001b[0m_m\u001b[0m\u001b[1;33m,\u001b[0m \u001b[0mcopy\u001b[0m\u001b[1;33m=\u001b[0m\u001b[1;32mFalse\u001b[0m\u001b[1;33m,\u001b[0m \u001b[0msubok\u001b[0m\u001b[1;33m=\u001b[0m\u001b[0msubok\u001b[0m\u001b[1;33m)\u001b[0m \u001b[1;32mfor\u001b[0m \u001b[0m_m\u001b[0m \u001b[1;32min\u001b[0m \u001b[0margs\u001b[0m\u001b[1;33m]\u001b[0m\u001b[1;33m\u001b[0m\u001b[1;33m\u001b[0m\u001b[0m\n\u001b[0;32m    537\u001b[0m \u001b[1;33m\u001b[0m\u001b[0m\n\u001b[1;32m--> 538\u001b[1;33m     \u001b[0mshape\u001b[0m \u001b[1;33m=\u001b[0m \u001b[0m_broadcast_shape\u001b[0m\u001b[1;33m(\u001b[0m\u001b[1;33m*\u001b[0m\u001b[0margs\u001b[0m\u001b[1;33m)\u001b[0m\u001b[1;33m\u001b[0m\u001b[1;33m\u001b[0m\u001b[0m\n\u001b[0m\u001b[0;32m    539\u001b[0m \u001b[1;33m\u001b[0m\u001b[0m\n\u001b[0;32m    540\u001b[0m     \u001b[1;32mif\u001b[0m \u001b[0mall\u001b[0m\u001b[1;33m(\u001b[0m\u001b[0marray\u001b[0m\u001b[1;33m.\u001b[0m\u001b[0mshape\u001b[0m \u001b[1;33m==\u001b[0m \u001b[0mshape\u001b[0m \u001b[1;32mfor\u001b[0m \u001b[0marray\u001b[0m \u001b[1;32min\u001b[0m \u001b[0margs\u001b[0m\u001b[1;33m)\u001b[0m\u001b[1;33m:\u001b[0m\u001b[1;33m\u001b[0m\u001b[1;33m\u001b[0m\u001b[0m\n",
      "\u001b[1;32m~\\anaconda3\\lib\\site-packages\\numpy\\lib\\stride_tricks.py\u001b[0m in \u001b[0;36m_broadcast_shape\u001b[1;34m(*args)\u001b[0m\n\u001b[0;32m    418\u001b[0m     \u001b[1;31m# use the old-iterator because np.nditer does not handle size 0 arrays\u001b[0m\u001b[1;33m\u001b[0m\u001b[1;33m\u001b[0m\u001b[0m\n\u001b[0;32m    419\u001b[0m     \u001b[1;31m# consistently\u001b[0m\u001b[1;33m\u001b[0m\u001b[1;33m\u001b[0m\u001b[0m\n\u001b[1;32m--> 420\u001b[1;33m     \u001b[0mb\u001b[0m \u001b[1;33m=\u001b[0m \u001b[0mnp\u001b[0m\u001b[1;33m.\u001b[0m\u001b[0mbroadcast\u001b[0m\u001b[1;33m(\u001b[0m\u001b[1;33m*\u001b[0m\u001b[0margs\u001b[0m\u001b[1;33m[\u001b[0m\u001b[1;33m:\u001b[0m\u001b[1;36m32\u001b[0m\u001b[1;33m]\u001b[0m\u001b[1;33m)\u001b[0m\u001b[1;33m\u001b[0m\u001b[1;33m\u001b[0m\u001b[0m\n\u001b[0m\u001b[0;32m    421\u001b[0m     \u001b[1;31m# unfortunately, it cannot handle 32 or more arguments directly\u001b[0m\u001b[1;33m\u001b[0m\u001b[1;33m\u001b[0m\u001b[0m\n\u001b[0;32m    422\u001b[0m     \u001b[1;32mfor\u001b[0m \u001b[0mpos\u001b[0m \u001b[1;32min\u001b[0m \u001b[0mrange\u001b[0m\u001b[1;33m(\u001b[0m\u001b[1;36m32\u001b[0m\u001b[1;33m,\u001b[0m \u001b[0mlen\u001b[0m\u001b[1;33m(\u001b[0m\u001b[0margs\u001b[0m\u001b[1;33m)\u001b[0m\u001b[1;33m,\u001b[0m \u001b[1;36m31\u001b[0m\u001b[1;33m)\u001b[0m\u001b[1;33m:\u001b[0m\u001b[1;33m\u001b[0m\u001b[1;33m\u001b[0m\u001b[0m\n",
      "\u001b[1;31mValueError\u001b[0m: shape mismatch: objects cannot be broadcast to a single shape"
     ]
    },
    {
     "data": {
      "image/png": "[encoded data removed]",
      "text/plain": [
       "<Figure size 432x288 with 1 Axes>"
      ]
     },
     "metadata": {
      "needs_background": "light"
     },
     "output_type": "display_data"
    }
   ],
   "source": [
    "plt.bar([\"Physics\",\"CS\",\"Math\",\"Engineering\"],[0,1,2,3,4])\n",
    "plt.legend()\n",
    "\n",
    "plt.xlabel('Disciplines')\n",
    "plt.ylabel('Height')\n",
    "plt.title('Distribution of Students in Program')\n",
    "\n",
    "plt.show()"
   ]
  },
  {
   "cell_type": "markdown",
   "id": "bf3607f3",
   "metadata": {},
   "source": [
    "#### 2. Generating a scatter plot\n",
    "* Generate random data to produce a scatter plot\n",
    "  * You can use any function to generate the data\n",
    "  * Instead of using circles as symbols, you should use squares.\n",
    "    "
   ]
  },
  {
   "cell_type": "code",
   "execution_count": 17,
   "id": "9f7530eb",
   "metadata": {},
   "outputs": [
    {
     "data": {
      "image/png": "[encoded data removed]",
      "text/plain": [
       "<Figure size 432x288 with 1 Axes>"
      ]
     },
     "metadata": {
      "needs_background": "light"
     },
     "output_type": "display_data"
    }
   ],
   "source": [
    "x = np.random.rand(100)\n",
    "y = np.random.rand(100)\n",
    "\n",
    "area = np.pi*3\n",
    "\n",
    "plt.scatter(x,y, s=area, alpha = 0.5)\n",
    "plt.title('Scatter plot')\n",
    "plt.xlabel('x')\n",
    "plt.ylabel('y')\n",
    "plt.show()\n"
   ]
  },
  {
   "cell_type": "code",
   "execution_count": null,
   "id": "08275161",
   "metadata": {},
   "outputs": [],
   "source": []
  }
 ],
 "metadata": {
  "kernelspec": {
   "display_name": "Python 3 (ipykernel)",
   "language": "python",
   "name": "python3"
  },
  "language_info": {
   "codemirror_mode": {
    "name": "ipython",
    "version": 3
   },
   "file_extension": ".py",
   "mimetype": "text/x-python",
   "name": "python",
   "nbconvert_exporter": "python",
   "pygments_lexer": "ipython3",
   "version": "3.9.7"
  }
 },
 "nbformat": 4,
 "nbformat_minor": 5
}
